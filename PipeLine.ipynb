{
  "nbformat": 4,
  "nbformat_minor": 0,
  "metadata": {
    "colab": {
      "name": "PipeLine.ipynb",
      "provenance": []
    },
    "kernelspec": {
      "name": "python3",
      "display_name": "Python 3"
    },
    "language_info": {
      "name": "python"
    }
  },
  "cells": [
    {
      "cell_type": "code",
      "execution_count": 88,
      "metadata": {
        "id": "m4fTyXESJrCL"
      },
      "outputs": [],
      "source": [
        "import torch\n",
        "import torch.nn as nn\n"
      ]
    },
    {
      "cell_type": "code",
      "source": [
        "X=torch.tensor([[1],[2],[3],[4]],dtype=torch.float32)"
      ],
      "metadata": {
        "id": "JpQxcaeMJyKn"
      },
      "execution_count": 89,
      "outputs": []
    },
    {
      "cell_type": "code",
      "source": [
        "Y=torch.tensor([[2],[4],[6],[8]],dtype=torch.float32)"
      ],
      "metadata": {
        "id": "_2vJZY4ZJ7b1"
      },
      "execution_count": 90,
      "outputs": []
    },
    {
      "cell_type": "code",
      "source": [
        "w=torch.tensor(0.0,dtype=torch.float32,requires_grad=True)"
      ],
      "metadata": {
        "id": "FN19JnVWJ9vc"
      },
      "execution_count": 91,
      "outputs": []
    },
    {
      "cell_type": "code",
      "source": [
        "X_test= torch.tensor([5],dtype=torch.float32)"
      ],
      "metadata": {
        "id": "lG1egRN5UpM2"
      },
      "execution_count": 92,
      "outputs": []
    },
    {
      "cell_type": "code",
      "source": [
        "n_samples,n_features=X.shape"
      ],
      "metadata": {
        "id": "N8k56P7VSeGo"
      },
      "execution_count": 93,
      "outputs": []
    },
    {
      "cell_type": "code",
      "source": [
        "print(n_samples,n_features)"
      ],
      "metadata": {
        "colab": {
          "base_uri": "https://localhost:8080/"
        },
        "id": "klpNsIiUSmlm",
        "outputId": "7b887911-c207-41aa-dd00-b8258a0a6b89"
      },
      "execution_count": 94,
      "outputs": [
        {
          "output_type": "stream",
          "name": "stdout",
          "text": [
            "4 1\n"
          ]
        }
      ]
    },
    {
      "cell_type": "markdown",
      "source": [
        ""
      ],
      "metadata": {
        "id": "jksw0u80T6p3"
      }
    },
    {
      "cell_type": "code",
      "source": [
        "input_size=n_features\n",
        "output_size=n_features"
      ],
      "metadata": {
        "id": "PwrVgj_WT-e_"
      },
      "execution_count": 95,
      "outputs": []
    },
    {
      "cell_type": "code",
      "source": [
        "model=nn.Linear(input_size,output_size)"
      ],
      "metadata": {
        "id": "21YGDRHsKMC5"
      },
      "execution_count": 96,
      "outputs": []
    },
    {
      "cell_type": "code",
      "source": [
        "class LinearRegression(nn.Module):\n",
        "  def __init__(self,input_dim,output_dim):\n",
        "    super(LinearRegression,self).__init__()\n",
        "    #Define leayers\n",
        "    self.lin=nn.Linear(input_dim,output_dim)\n",
        "  def forward(self,x):\n",
        "    return self.lin(x)\n",
        "model=LinearRegression(input_size,output_size)\n"
      ],
      "metadata": {
        "id": "_fRDSFl9W-M1"
      },
      "execution_count": 97,
      "outputs": []
    },
    {
      "cell_type": "code",
      "source": [
        "print(f'Prediction before training f(5) = {model(X_test).item():.3f}')"
      ],
      "metadata": {
        "colab": {
          "base_uri": "https://localhost:8080/"
        },
        "id": "ipuXb_fzKRcC",
        "outputId": "f770c5b8-7e4a-4df6-db9a-fffb4c3537de"
      },
      "execution_count": 98,
      "outputs": [
        {
          "output_type": "stream",
          "name": "stdout",
          "text": [
            "Prediction before training f(5) = 3.876\n"
          ]
        }
      ]
    },
    {
      "cell_type": "code",
      "source": [
        "#Training \n",
        "learning_rate=0.01\n",
        "n_iters=100"
      ],
      "metadata": {
        "id": "1Bwkvn_BKoNq"
      },
      "execution_count": 99,
      "outputs": []
    },
    {
      "cell_type": "code",
      "source": [
        "loss=nn.MSELoss()\n",
        "optimizer=torch.optim.SGD(model.parameters(),lr=learning_rate)"
      ],
      "metadata": {
        "id": "9I5xEDEgM6Nv"
      },
      "execution_count": 100,
      "outputs": []
    },
    {
      "cell_type": "code",
      "source": [
        "for epoch in range(n_iters):\n",
        "  #Prediction = forward pass\n",
        "  y_pred=model(X)\n",
        "  #Loss\n",
        "  l=loss(Y,y_pred)\n",
        "  #Gradient\n",
        "  l.backward()\n",
        "  #Update Weights\n",
        "  optimizer.step()\n",
        "  #Zero gradient\n",
        "  optimizer.zero_grad()\n",
        "  if epoch % 10== 0:\n",
        "    [w,b]=model.parameters()\n",
        "    print(f'epoch {epoch+1}: w = {w[0][0].item():.3f} ,loss = {l:.8f}')\n",
        "\n",
        "print(f'Prediction after training f(5) = {model(X_test).item():.3f}')"
      ],
      "metadata": {
        "colab": {
          "base_uri": "https://localhost:8080/"
        },
        "id": "wycQgAgxNGH3",
        "outputId": "3fdc71ce-78fc-4763-85e5-7526f41b9de2"
      },
      "execution_count": 101,
      "outputs": [
        {
          "output_type": "stream",
          "name": "stdout",
          "text": [
            "epoch 1: w = 0.866 ,loss = 10.26934052\n",
            "epoch 11: w = 1.604 ,loss = 0.35822776\n",
            "epoch 21: w = 1.729 ,loss = 0.09641758\n",
            "epoch 31: w = 1.755 ,loss = 0.08457144\n",
            "epoch 41: w = 1.765 ,loss = 0.07948762\n",
            "epoch 51: w = 1.773 ,loss = 0.07485690\n",
            "epoch 61: w = 1.780 ,loss = 0.07049979\n",
            "epoch 71: w = 1.786 ,loss = 0.06639628\n",
            "epoch 81: w = 1.793 ,loss = 0.06253172\n",
            "epoch 91: w = 1.799 ,loss = 0.05889204\n",
            "Prediction after training f(5) = 9.596\n"
          ]
        }
      ]
    },
    {
      "cell_type": "code",
      "source": [
        "print(f'Prediction after Training {model(X_test).item():.3f}')"
      ],
      "metadata": {
        "colab": {
          "base_uri": "https://localhost:8080/"
        },
        "id": "qcf84Dp-Nlsn",
        "outputId": "993773eb-7f92-49f8-b1da-89a0c278a962"
      },
      "execution_count": 102,
      "outputs": [
        {
          "output_type": "stream",
          "name": "stdout",
          "text": [
            "Prediction after Training 9.596\n"
          ]
        }
      ]
    },
    {
      "cell_type": "code",
      "source": [
        ""
      ],
      "metadata": {
        "id": "LpnWupF_PWX8"
      },
      "execution_count": 102,
      "outputs": []
    }
  ]
}